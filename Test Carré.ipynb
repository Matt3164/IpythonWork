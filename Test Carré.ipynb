{
 "metadata": {
  "name": "Test Carr\u00e9"
 },
 "nbformat": 3,
 "nbformat_minor": 0,
 "worksheets": [
  {
   "cells": [
    {
     "cell_type": "code",
     "collapsed": false,
     "input": [
      "import numpy as np\n",
      "import scipy.stats as scp\n",
      "\n",
      "Carres = np.zeros((100,8), dtype= np.float64)\n",
      "\n",
      "for i in range(100):\n",
      "    somme = 0\n",
      "    for j in range(4):\n",
      "        Carres[i,j] = 4 + 0.01*np.random.randn(1)[0]\n",
      "        update = np.pi / 2. + 0.01*np.random.randn(1)[0]\n",
      "        \n",
      "ScoresCarres = np.zeros((100,8), dtype= np.float64)\n",
      "for i in range(100):\n",
      "    for j in range(4):\n",
      "        ScoresCarres[i,j] = scp.norm(1, 1).pdf(Carres[i,j])\n",
      "        ScoresCarres[i,j + 4] = scp.norm(np.pi / 2., 1).pdf(Carres[i,j])\n",
      "\n",
      "NonCarres = np.zeros((100,8), dtype= np.float64)\n",
      "\n",
      "for i in range(100):\n",
      "    for j in range(4):\n",
      "        NonCarres[i,j] = 5 *np.random.rand(1)[0]\n",
      "        NonCarres[i,j + 4] = np.pi / 2. + np.random.randn(1)[0]\n",
      "        \n",
      "ScoresNonCarres = np.zeros((100,8), dtype= np.float64)\n",
      "for i in range(100):\n",
      "    for j in range(4):\n",
      "        ScoresNonCarres[i,j] = scp.norm(4, 1).pdf(Carres[i,j])\n",
      "        ScoresNonCarres[i,j + 4] = scp.norm(np.pi / 2., 1).pdf(Carres[i,j+4])\n",
      "\n",
      "\n"
     ],
     "language": "python",
     "metadata": {},
     "outputs": [],
     "prompt_number": 63
    },
    {
     "cell_type": "code",
     "collapsed": false,
     "input": [
      "Scores = np.concatenate((ScoresCarres, ScoresNonCarres), axis = 0)\n",
      "Y =[int(i < 100) for i in range(200)]\n",
      "\n",
      "from sklearn import svm as svm\n",
      "\n",
      "clf = svm.SVC(kernel='linear')\n",
      "clf.fit(Scores, Y)\n",
      "\n",
      "print clf.coef_"
     ],
     "language": "python",
     "metadata": {},
     "outputs": [
      {
       "output_type": "stream",
       "stream": "stdout",
       "text": [
        "[[-1.19838593 -1.19886449 -1.1984477  -1.19843873 -0.28769634 -0.28913754\n",
        "  -0.28747405 -0.28780005]]\n"
       ]
      }
     ],
     "prompt_number": 64
    },
    {
     "cell_type": "code",
     "collapsed": false,
     "input": [
      "sum(clf.predict(Scores) == Y)\n",
      "clf.predict([1, 1, 1, 4, np.pi/2., np.pi/2., np.pi/2., np.pi/2.])"
     ],
     "language": "python",
     "metadata": {},
     "outputs": [
      {
       "output_type": "pyout",
       "prompt_number": 65,
       "text": [
        "array([ 0.])"
       ]
      }
     ],
     "prompt_number": 65
    },
    {
     "cell_type": "code",
     "collapsed": false,
     "input": [],
     "language": "python",
     "metadata": {},
     "outputs": []
    }
   ],
   "metadata": {}
  }
 ]
}