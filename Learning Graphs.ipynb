{
 "metadata": {
  "name": "Learning Graphs"
 },
 "nbformat": 3,
 "nbformat_minor": 0,
 "worksheets": [
  {
   "cells": [
    {
     "cell_type": "code",
     "collapsed": false,
     "input": [
      "cd ~/T\u00e9l\u00e9chargements/WILLOW-ObjectClass/Face"
     ],
     "language": "python",
     "metadata": {},
     "outputs": [
      {
       "output_type": "stream",
       "stream": "stdout",
       "text": [
        "/home/matthieu/T\u00e9l\u00e9chargements/WILLOW-ObjectClass/Face\n"
       ]
      }
     ],
     "prompt_number": 1
    },
    {
     "cell_type": "code",
     "collapsed": false,
     "input": [
      "import numpy as np\n",
      "import math as m\n",
      "import matplotlib.pyplot as mpl\n",
      "import scipy.stats as scp\n",
      "import glob\n",
      "from scipy.io.matlab import mio\n",
      "import sklearn.svm as svm\n",
      "import scipy.optimize as scpo\n",
      "\n",
      "x = mio.loadmat('image_0001.mat')\n",
      "Y = []\n",
      "distances = np.zeros((len(glob.glob('*.mat')), 100), dtype= np.float64)\n",
      "angles = np.zeros((len(glob.glob('*.mat')), 100), dtype= np.float64)\n",
      "gradient = np.zeros((len(glob.glob('*.mat')), len(x['pts_coord'][0])), dtype= np.float64)\n",
      "j = 0\n",
      "for filename in glob.glob('*.mat'):\n",
      "    x = mio.loadmat(filename)\n",
      "    Image = mpl.imread(filename[:-3]+'png')\n",
      "    gradimg = np.dot(Image, [0.2989, 0.5870, 0.1140])\n",
      "    gradimg = np.gradient(gradimg)\n",
      "    ind = 0\n",
      "    for k in range(len(x['pts_coord'][0])):        \n",
      "        for i in range(k + 1,len(x['pts_coord'][0])):\n",
      "            distances[j,ind] = 0.5 * m.log((x['pts_coord'][0][k] - x['pts_coord'][0][i])*(x['pts_coord'][0][k] - x['pts_coord'][0][i]) + (x['pts_coord'][1][k] - x['pts_coord'][1][i])*(x['pts_coord'][1][k] - x['pts_coord'][1][i]))\n",
      "            angles[j,ind] = m.atan((x['pts_coord'][1][k] - x['pts_coord'][1][i])/(x['pts_coord'][0][k] - x['pts_coord'][0][i]))\n",
      "            ind = ind + 1\n",
      "        gradient[j,k] = gradimg[0][x['pts_coord'][1][k],x['pts_coord'][0][k]]\n",
      "        \n",
      "    j = j + 1\n",
      "    Y = Y +[1]\n",
      "    \n",
      "individ = np.concatenate((distances[:,:ind], angles[:,:ind], gradient), axis=1)\n",
      "        \n",
      "Moyenne = [np.mean(distances[:,i]) for i in range(ind)] + [np.mean(angles[:,i]) for i in range(ind)] + [np.mean(gradient[:,i]) for i in range(gradient.shape[1])] \n"
     ],
     "language": "python",
     "metadata": {},
     "outputs": [],
     "prompt_number": 3
    },
    {
     "cell_type": "code",
     "collapsed": false,
     "input": [
      "FalseCoord = []\n",
      "x = mio.loadmat('image_0001.mat')\n",
      "gradient = np.zeros((10*len(glob.glob('*.mat')), len(x['pts_coord'][0])), dtype= np.float64)\n",
      "j = 0\n",
      "\n",
      "for filename in glob.glob('*.png'):\n",
      "    x = mpl.imread(filename)\n",
      "    Image = mpl.imread(filename[:-3]+'png')\n",
      "    gradimg = np.dot(Image, [0.2989, 0.5870, 0.1140])\n",
      "    gradimg = np.gradient(gradimg)\n",
      "    for k in range(10):\n",
      "        Liste = [[],[]]\n",
      "        for i in range(10):\n",
      "            x = np.random.random_integers(0,gradimg[0].shape[0]-1)\n",
      "            y = np.random.random_integers(0,gradimg[0].shape[1]-1)\n",
      "            Liste[0] = Liste[0] + [x]\n",
      "            Liste[1] = Liste[1] + [y]\n",
      "            gradient[j, i] = gradimg[0][x, y]\n",
      "        j = j + 1\n",
      "        FalseCoord = FalseCoord + [Liste]\n",
      "\n",
      "distances = np.zeros((len(FalseCoord), 100), dtype= np.float64)\n",
      "angles = np.zeros((len(FalseCoord), 100), dtype= np.float64)\n",
      "j = 0\n",
      "for l in range(len(FalseCoord)):\n",
      "    ind = 0\n",
      "    for k in range(len(FalseCoord[l][0])):        \n",
      "        for i in range(k + 1,len(FalseCoord[l][0])):\n",
      "            x = FalseCoord[l]\n",
      "            distances[j,ind] = 0.5 * m.log((x[0][k] - x[0][i])*(x[0][k] - x[0][i]) + (x[1][k] - x[1][i])*(x[1][k] - x[1][i]))\n",
      "            if x[0][k] == x[0][i]:\n",
      "                angles[j,ind] = np.pi/2.\n",
      "            else:\n",
      "                angles[j,ind] = m.atan((x[1][k] - x[1][i])/(x[0][k] - x[0][i]))\n",
      "            ind = ind + 1\n",
      "            \n",
      "    j = j + 1\n",
      "    Y = Y + [0]\n",
      "    \n",
      "individ = np.concatenate((individ,np.concatenate((distances[:,:ind], angles[:,:ind], gradient), axis=1)), axis = 0)"
     ],
     "language": "python",
     "metadata": {},
     "outputs": [],
     "prompt_number": 4
    },
    {
     "cell_type": "code",
     "collapsed": false,
     "input": [
      "\n",
      "\n",
      "Scores = [ [ scp.norm(Moyenne[j], 1).pdf(individ[i,j]) for j in range(individ.shape[1])] for i in range(individ.shape[0])]"
     ],
     "language": "python",
     "metadata": {},
     "outputs": [],
     "prompt_number": 7
    },
    {
     "cell_type": "code",
     "collapsed": false,
     "input": [
      "clf = svm.SVC(kernel='linear')\n",
      "clf.fit(Scores, Y)\n",
      "\n",
      "w = clf.coef_"
     ],
     "language": "python",
     "metadata": {},
     "outputs": [],
     "prompt_number": 9
    },
    {
     "cell_type": "code",
     "collapsed": false,
     "input": [
      "def Scores(points):\n",
      "    global gradimg\n",
      "    global w\n",
      "    x = points[:len(points)/2]\n",
      "    y = points[len(points)/2:]\n",
      "    distances = []\n",
      "    angles = []\n",
      "    gradient = []\n",
      "    prod = 1\n",
      "    for k in range(len(x)):\n",
      "        prod = prod * ((x[k] >= 0) & (y[k] >= 0))\n",
      "    if prod == 0:\n",
      "        return 0\n",
      "    \n",
      "    for k in range(len(x)):\n",
      "        if y[k] >= gradimg[0].shape[0] or x[k] >= gradimg[0].shape[1]:\n",
      "            gradient = gradient + [0]\n",
      "        else:\n",
      "            gradient = gradient + [gradimg[0][y[k], x[k]]]\n",
      "            \n",
      "        for i in range(k + 1,len(x)):\n",
      "            if (x[k] - x[i])*(x[k] - x[i]) + (y[k] - y[i])*(y[k] - y[i]) == 0:\n",
      "                distances = distances + [0]\n",
      "            else:\n",
      "                distances = distances + [0.5 * m.log((x[k] - x[i])*(x[k] - x[i]) + (y[k] - y[i])*(y[k] - y[i]))]\n",
      "            if x[k] == x[i]:\n",
      "                angles = angles + [np.pi/2.]\n",
      "            else:\n",
      "                angles = angles +  [m.atan((y[k] - y[i])/(x[k] - x[i]))]\n",
      "    #return distances + angles + gradient\n",
      "    return -np.dot(w, np.array(distances+angles+gradient).reshape(100,1))[0][0]"
     ],
     "language": "python",
     "metadata": {},
     "outputs": [],
     "prompt_number": 44
    },
    {
     "cell_type": "code",
     "collapsed": false,
     "input": [
      "x = mio.loadmat('image_0001.mat')\n",
      "img = mpl.imread('image_0001.png')\n",
      "X = np.concatenate((x['pts_coord'][0] , x['pts_coord'][1]), axis = 0)\n",
      "\n",
      "gradimg = mpl.imread('image_0001.png')\n",
      "gradimg = np.dot(gradimg, [0.2989, 0.5870, 0.1140])\n",
      "gradimg = np.gradient(gradimg)\n",
      "\n",
      "print Scores(X)"
     ],
     "language": "python",
     "metadata": {},
     "outputs": [
      {
       "output_type": "stream",
       "stream": "stdout",
       "text": [
        "-25.2465108912\n"
       ]
      }
     ],
     "prompt_number": 45
    },
    {
     "cell_type": "code",
     "collapsed": false,
     "input": [
      "md = min(gradimg[0].shape[0]-1, gradimg[0].shape[1]-1 )\n",
      "\n",
      "test = np.concatenate(([np.random.random_integers(0, md) for i in range(len(X)/2)], [np.random.random_integers(0, md) for i in range(len(X)/2)]), axis =0)\n",
      "\n",
      "xopt = scpo.fmin(Scores, test, xtol = 5, maxiter = 1000000)\n",
      "print Scores(xopt)\n",
      "print xopt"
     ],
     "language": "python",
     "metadata": {},
     "outputs": [
      {
       "output_type": "stream",
       "stream": "stdout",
       "text": [
        "Warning: Maximum number of function evaluations has been exceeded.\n",
        "-46.6470897352\n",
        "[ 567.20742271  280.67438491  165.71125652  105.97428979   21.91009534\n",
        "   48.76820729   48.76820729  254.82655853  275.35534119   46.30160633\n",
        "  474.85103927  103.52233127  626.39676641    5.72332017    2.09251703\n",
        "   95.41305857   95.41305857    4.32311032   34.1579397    19.07669802]\n"
       ]
      }
     ],
     "prompt_number": 47
    },
    {
     "cell_type": "code",
     "collapsed": false,
     "input": [
      "mpl.imshow(img)\n",
      "mpl.plot(xopt[:len(X)/2], xopt[:len(X)/2], 'o' )\n",
      "mpl.show()"
     ],
     "language": "python",
     "metadata": {},
     "outputs": [],
     "prompt_number": 53
    }
   ],
   "metadata": {}
  }
 ]
}