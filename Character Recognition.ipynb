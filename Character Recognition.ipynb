{
 "metadata": {
  "name": ""
 },
 "nbformat": 3,
 "nbformat_minor": 0,
 "worksheets": [
  {
   "cells": [
    {
     "cell_type": "code",
     "collapsed": false,
     "input": [
      "import numpy as np\n",
      "print np.random.random(5)"
     ],
     "language": "python",
     "metadata": {},
     "outputs": [
      {
       "output_type": "stream",
       "stream": "stdout",
       "text": [
        "[ 0.20315273  0.94971223  0.05429472  0.43477253  0.01398818]\n"
       ]
      }
     ],
     "prompt_number": 2
    },
    {
     "cell_type": "code",
     "collapsed": false,
     "input": [
      "V = array(np.random.random(26*26)).reshape(26,26)\n",
      "T = array(np.random.random(26*26)).reshape(26,26)\n",
      "longueurMot = 5\n",
      "X = array(np.random.random(26*5)).reshape(26,5)\n",
      "C = zeros((26,5))\n",
      "D = zeros((26,4))\n",
      "alphabet = [chr(i) for i in range(97, 123)]\n"
     ],
     "language": "python",
     "metadata": {},
     "outputs": [],
     "prompt_number": 43
    },
    {
     "cell_type": "code",
     "collapsed": false,
     "input": [
      "C[:,0] = dot(V,X[:,0])\n",
      "\n",
      "for i in range(1,5):\n",
      "    #print 'i = ',i\n",
      "    for j in range(0,26):\n",
      "        #print 'j = ',j\n",
      "        C[j,i] = dot(V,X[:,i])[j] + max(T[:,j]*C[:,i-1])\n",
      "        D[j,i-1] = np.argmax(T[:,j]*C[:,i-1])\n",
      "   \n",
      "    \n"
     ],
     "language": "python",
     "metadata": {},
     "outputs": [],
     "prompt_number": 68
    },
    {
     "cell_type": "code",
     "collapsed": false,
     "input": [
      "mot = []\n",
      "print mot"
     ],
     "language": "python",
     "metadata": {},
     "outputs": [
      {
       "output_type": "stream",
       "stream": "stdout",
       "text": [
        "[]\n"
       ]
      }
     ],
     "prompt_number": 70
    },
    {
     "cell_type": "code",
     "collapsed": false,
     "input": [
      "mot.append(alphabet[np.argmax(C[:,4])])\n",
      "indiceprec = np.argmax(C[:,4])\n",
      "for i in range(3,-1,-1):\n",
      "    indiceprec = D[indiceprec,i]\n",
      "    mot.append(alphabet[int(indiceprec)])\n",
      "        \n",
      "print mot"
     ],
     "language": "python",
     "metadata": {},
     "outputs": [
      {
       "output_type": "stream",
       "stream": "stdout",
       "text": [
        "['l', 'd', 'k', 'q', 'm']\n"
       ]
      }
     ],
     "prompt_number": 71
    },
    {
     "cell_type": "code",
     "collapsed": false,
     "input": [
      "print C"
     ],
     "language": "python",
     "metadata": {},
     "outputs": [
      {
       "output_type": "stream",
       "stream": "stdout",
       "text": [
        "[[  6.56209179  13.78544092  20.22358028  26.07953661  33.20576582]\n",
        " [  5.14802025  10.06827548  17.15781797  24.97715291  31.22510208]\n",
        " [  5.59915275  11.63753345  17.78197032  23.61849321  29.86041841]\n",
        " [  6.34790609  12.8068278   18.83227035  26.20719716  32.51679485]\n",
        " [  6.05494749  12.3528673   17.31307618  23.72122779  32.11197725]\n",
        " [  4.61320905  11.2564625   18.9038861   23.48473579  29.85620058]\n",
        " [  6.23086281  11.44082538  18.96411359  24.13599335  32.61813168]\n",
        " [  5.69754852  11.870931    17.93408969  24.33262224  33.05505688]\n",
        " [  5.18236314  11.09662105  18.73039771  22.9036683   32.78644554]\n",
        " [  5.62913946  11.58911854  18.50765188  24.2745614   33.61561058]\n",
        " [  6.24765485  12.02161241  19.64660534  23.79106679  32.05349942]\n",
        " [  8.36797019  13.8221087   20.98984093  26.76190763  36.82306841]\n",
        " [  6.65402948  14.04904692  19.64713321  24.95686349  32.30719713]\n",
        " [  7.25865698  11.2126199   17.74469333  24.97963625  32.64343405]\n",
        " [  4.90117356  11.14723903  19.51603153  24.37842979  32.09330572]\n",
        " [  5.19190189  10.85945954  19.1662152   24.41651724  33.13781115]\n",
        " [  5.28847908  12.22748461  19.91151241  24.24963726  31.78778897]\n",
        " [  6.45648553  11.17011509  19.21495956  23.80628502  31.73832439]\n",
        " [  7.00632042  12.50064796  18.26712432  22.33469297  31.04781106]\n",
        " [  5.76957679  11.76150771  19.53966869  24.92691617  31.21887822]\n",
        " [  5.19751549  12.3736486   17.7229312   24.00306452  31.06036713]\n",
        " [  5.72581928  13.58170824  19.24529936  26.45868851  33.73283616]\n",
        " [  5.78838552  11.37597321  17.60007231  22.70873506  31.68259456]\n",
        " [  6.2205872   12.33488359  21.10429444  24.48769254  34.82580134]\n",
        " [  6.0213373   11.5626272   17.51785459  25.07643872  32.09363519]\n",
        " [  5.4994323   13.48616452  19.9210468   25.9478823   33.38159499]]\n"
       ]
      }
     ],
     "prompt_number": 69
    },
    {
     "cell_type": "code",
     "collapsed": false,
     "input": [],
     "language": "python",
     "metadata": {},
     "outputs": []
    }
   ],
   "metadata": {}
  }
 ]
}