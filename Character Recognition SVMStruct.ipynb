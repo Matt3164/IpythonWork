{
 "metadata": {
  "name": ""
 },
 "nbformat": 3,
 "nbformat_minor": 0,
 "worksheets": [
  {
   "cells": [
    {
     "cell_type": "code",
     "collapsed": false,
     "input": [
      "import csv as cs\n",
      "dataCSV = open('../data/letter.data')\n",
      "namesCSV = open('../data/letter.names.txt')"
     ],
     "language": "python",
     "metadata": {},
     "outputs": [],
     "prompt_number": 2
    },
    {
     "cell_type": "code",
     "collapsed": false,
     "input": [
      "data = cs.reader(dataCSV, delimiter = '\\t')\n",
      "table = [row for row in data]"
     ],
     "language": "python",
     "metadata": {},
     "outputs": [],
     "prompt_number": 3
    },
    {
     "cell_type": "code",
     "collapsed": false,
     "input": [
      "names = cs.reader(namesCSV, delimiter = '\\t')\n",
      "table2=[row for row in names]"
     ],
     "language": "python",
     "metadata": {},
     "outputs": [],
     "prompt_number": 4
    },
    {
     "cell_type": "code",
     "collapsed": false,
     "input": [
      "label = [row[1] for row in table]\n",
      "nextid = [int(row[2]) for row in table]\n",
      "idletter = [int(row[0]) for row in table]"
     ],
     "language": "python",
     "metadata": {},
     "outputs": [],
     "prompt_number": 5
    },
    {
     "cell_type": "code",
     "collapsed": false,
     "input": [
      "nextlabel = [ label[elmt - 1] if (elmt != -1) else -1 for elmt in nextid]"
     ],
     "language": "python",
     "metadata": {},
     "outputs": [],
     "prompt_number": 6
    },
    {
     "cell_type": "code",
     "collapsed": false,
     "input": [
      "print label[:10]\n",
      "print nextlabel[:10]"
     ],
     "language": "python",
     "metadata": {},
     "outputs": [
      {
       "output_type": "stream",
       "stream": "stdout",
       "text": [
        "['o', 'm', 'm', 'a', 'n', 'd', 'i', 'n', 'g', 'o']\n",
        "['m', 'm', 'a', 'n', 'd', 'i', 'n', 'g', -1, 'm']\n"
       ]
      }
     ],
     "prompt_number": 7
    },
    {
     "cell_type": "code",
     "collapsed": false,
     "input": [
      "alphabet = list(map(chr, range(ord('a'), ord('z')+1)))\n",
      "print alphabet[ord('b') - ord('a')]"
     ],
     "language": "python",
     "metadata": {},
     "outputs": [
      {
       "output_type": "stream",
       "stream": "stdout",
       "text": [
        "b\n"
       ]
      }
     ],
     "prompt_number": 8
    },
    {
     "cell_type": "code",
     "collapsed": false,
     "input": [
      "import numpy as np\n",
      "TableChar = np.zeros((27,27), dtype = np.int32)"
     ],
     "language": "python",
     "metadata": {},
     "outputs": [],
     "prompt_number": 9
    },
    {
     "cell_type": "code",
     "collapsed": false,
     "input": [
      "for i in range(0, len(label)):\n",
      "    \n",
      "    if label[i] != -1:\n",
      "        x = ord(label[i]) - ord('a')\n",
      "    else:\n",
      "        x = 26\n",
      "    \n",
      "    if nextlabel[i] != -1:\n",
      "        y = ord(nextlabel[i]) - ord('a')\n",
      "        \n",
      "    else:\n",
      "        y = 26\n",
      "    \n",
      "    TableChar[x,y]+=1\n"
     ],
     "language": "python",
     "metadata": {},
     "outputs": [],
     "prompt_number": 10
    },
    {
     "cell_type": "code",
     "collapsed": false,
     "input": [
      "print sum(TableChar[1,:])\n",
      "\n",
      "FreqTable = [ [ round(float(elmt) / float(sum(row)) if (sum(row) != 0) else 0., 4) for elmt in row] for row in TableChar]"
     ],
     "language": "python",
     "metadata": {},
     "outputs": [
      {
       "output_type": "stream",
       "stream": "stdout",
       "text": [
        "1284\n"
       ]
      }
     ],
     "prompt_number": 11
    },
    {
     "cell_type": "code",
     "collapsed": false,
     "input": [
      "#print FreqTable\n",
      "pixelmatrix = [row[6:-1] for row in table]\n",
      "PMI = [[int(elmt) for elmt in row] for row in pixelmatrix]\n",
      "PM =np.array(PMI)\n",
      "#print PM[1,:]"
     ],
     "language": "python",
     "metadata": {},
     "outputs": [],
     "prompt_number": 12
    },
    {
     "cell_type": "code",
     "collapsed": false,
     "input": [
      "print PM[1,:]"
     ],
     "language": "python",
     "metadata": {},
     "outputs": [
      {
       "output_type": "stream",
       "stream": "stdout",
       "text": [
        "[0 0 0 0 0 0 0 0 0 0 0 0 0 0 0 0 0 0 0 0 0 0 0 0 0 0 0 0 0 0 0 0 0 0 0 0 0\n",
        " 0 0 0 0 0 0 0 0 0 0 0 0 1 1 1 1 1 1 0 1 1 0 1 1 0 1 1 1 0 1 1 0 0 0 1 1 0\n",
        " 1 1 0 0 0 1 0 0 0 0 0 0 0 0 0 0 0 0 0 0 0 0 0 0 0 0 0 0 0 0 0 0 0 0 0 0 0\n",
        " 0 0 0 0 0 0 0 0 0 0 0 0 0 0 0 0 0]\n"
       ]
      }
     ],
     "prompt_number": 17
    },
    {
     "cell_type": "code",
     "collapsed": false,
     "input": [
      "perceptron = np.zeros((26, 128), dtype = np.float64 )\n",
      "\n"
     ],
     "language": "python",
     "metadata": {},
     "outputs": [],
     "prompt_number": 35
    },
    {
     "cell_type": "code",
     "collapsed": false,
     "input": [
      "for i in range(0,len(label)):\n",
      "    Score = np.dot(perceptron, np.transpose(PM[i,:]))\n",
      "    Label = np.argmax(Score)\n",
      "    if Label != ord(label[i]) - ord('a'):\n",
      "        perceptron[ord(label[i])-ord('a'), :] += PM[i, :]\n",
      "        perceptron[Label, :] -= PM[i, :]\n",
      "        "
     ],
     "language": "python",
     "metadata": {},
     "outputs": [],
     "prompt_number": 36
    },
    {
     "cell_type": "code",
     "collapsed": false,
     "input": [
      "result = 0\n",
      "for i in range(0, len(label)):\n",
      "    Score = np.dot(perceptron, np.transpose(PM[i,:]))\n",
      "    Label = np.argmax(Score)\n",
      "    if Label == ord(label[i]) - ord('a'):\n",
      "        result=result+1\n",
      "\n",
      "print result / float(len(label))"
     ],
     "language": "python",
     "metadata": {},
     "outputs": [
      {
       "output_type": "stream",
       "stream": "stdout",
       "text": [
        "0.520095106611\n"
       ]
      }
     ],
     "prompt_number": 37
    },
    {
     "cell_type": "code",
     "collapsed": false,
     "input": [
      "features = np.zeros((len(label), 128 + 26*26), dtype = np.float64 )\n",
      "\n",
      "for i in range(0,128):\n",
      "    features[i, :128] = PM[i,:]\n",
      "    if nextlabel[i] != -1:\n",
      "        features[i, 128 + (ord(label[i])-ord('a'))*26 + (ord(nextlabel[i]) - ord('a'))] = 1\n",
      "        \n",
      "np.savetxt('features.txt', features, delimiter = ',')\n"
     ],
     "language": "python",
     "metadata": {},
     "outputs": [],
     "prompt_number": 82
    },
    {
     "cell_type": "code",
     "collapsed": false,
     "input": [
      "w = np.zeros((26, 128 + 26*26), dtype = np.float64 )\n",
      "FreqTableA = np.array(FreqTable)\n",
      "w[:, :128] = perceptron\n",
      "\n",
      "for i in range(0,26):\n",
      "    w[i, 128:] = FreqTableA[:26,:26].reshape(1, 26*26)\n",
      "\n",
      "np.savetxt('w.txt', w, delimiter = ',')\n",
      "    "
     ],
     "language": "python",
     "metadata": {},
     "outputs": [],
     "prompt_number": 100
    },
    {
     "cell_type": "code",
     "collapsed": false,
     "input": [],
     "language": "python",
     "metadata": {},
     "outputs": []
    }
   ],
   "metadata": {}
  }
 ]
}