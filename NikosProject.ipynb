{
 "metadata": {
  "name": ""
 },
 "nbformat": 3,
 "nbformat_minor": 0,
 "worksheets": [
  {
   "cells": [
    {
     "cell_type": "code",
     "collapsed": false,
     "input": [
      "cd ~/T\u00e9l\u00e9chargements/WILLOW-ObjectClass/Duck/"
     ],
     "language": "python",
     "metadata": {},
     "outputs": [
      {
       "output_type": "stream",
       "stream": "stdout",
       "text": [
        "/home/matthieu/T\u00e9l\u00e9chargements/WILLOW-ObjectClass/Duck\n"
       ]
      }
     ],
     "prompt_number": 23
    },
    {
     "cell_type": "code",
     "collapsed": false,
     "input": [
      "import numpy as np\n",
      "import math as m\n",
      "\n",
      "import glob\n",
      "\n",
      "\n",
      "\n",
      "from scipy.io.matlab import mio\n",
      "\n",
      "\n",
      "distances = np.zeros((len(glob.glob('*.mat')), 100), dtype= np.float64)\n",
      "angles = np.zeros((len(glob.glob('*.mat')), 100), dtype= np.float64)\n",
      "j = 0\n",
      "for filename in glob.glob('*.mat'):\n",
      "    x = mio.loadmat(filename)\n",
      "    ind = 0\n",
      "    for k in range(len(x['pts_coord'][0])):        \n",
      "        for i in range(k + 1,len(x['pts_coord'][0])):\n",
      "            distances[j,ind] = 0.5 * m.log((x['pts_coord'][0][k] - x['pts_coord'][0][i])*(x['pts_coord'][0][k] - x['pts_coord'][0][i]) + (x['pts_coord'][1][k] - x['pts_coord'][1][i])*(x['pts_coord'][1][k] - x['pts_coord'][1][i]))\n",
      "            angles[j,ind] = m.atan((x['pts_coord'][1][k] - x['pts_coord'][1][i])/(x['pts_coord'][0][k] - x['pts_coord'][0][i]))\n",
      "            ind = ind + 1\n",
      "    j = j + 1\n",
      "    \n",
      "individ = np.concatenate((distances[:,:ind], angles[:,:ind]), axis=1)\n",
      "        \n",
      "Moyenne = [np.mean(distances[:,i]) for i in range(4)] + [np.mean(angles[:,i]) for i in range(4)] \n",
      "\n",
      "print individ[0,:]\n"
     ],
     "language": "python",
     "metadata": {},
     "outputs": [
      {
       "output_type": "stream",
       "stream": "stdout",
       "text": [
        "[ 4.20009765  3.91339959  4.3330196   4.57971748  3.47080454  4.45057595\n",
        "  3.86882727  3.55077997  4.75991114  3.97944568  4.58971518  4.33457635\n",
        "  4.36769933  3.6443489   3.96673967  4.62037138  3.91330259  3.80946939\n",
        "  3.85926759  3.61260843  3.84584288  4.34621908  4.34065829  4.55923053\n",
        "  4.0395324   3.81595047  4.42050597  4.7578795   4.45249512  4.91954616\n",
        "  4.38129772  3.75297427  4.77013482  4.80881753  4.56318994  4.41983026\n",
        "  4.35298282  3.77201701  4.84246763  4.48159731  4.77261077  4.00984567\n",
        "  4.30990764  4.54457352  5.02101623 -0.03013303  0.88080642  1.4860347\n",
        "  0.86514142 -1.42831614  0.41289686 -0.93382934 -0.01833541 -0.04668687\n",
        " -0.86258536 -0.91282243 -1.52570225 -0.44358564  1.25687505  0.76269823\n",
        " -0.02608478 -0.06873986 -0.97237743  0.848605    0.18394346 -0.09065989\n",
        "  1.52686856  0.5175609  -0.47951929 -0.02984188  1.32581766 -0.52293876\n",
        " -1.38053331  1.06908013 -0.6360755   0.55859932 -1.20504903  1.27176913\n",
        "  0.64365403 -0.98034275  0.03060269 -1.13153413  0.800533   -0.29849893\n",
        "  0.96949663  0.28940552 -0.80713387 -0.5536152   0.35877067 -0.04017051]\n"
       ]
      }
     ],
     "prompt_number": 122
    },
    {
     "cell_type": "code",
     "collapsed": false,
     "input": [
      "print individ.shape"
     ],
     "language": "python",
     "metadata": {},
     "outputs": [
      {
       "output_type": "stream",
       "stream": "stdout",
       "text": [
        "(50, 20)\n"
       ]
      }
     ],
     "prompt_number": 25
    },
    {
     "cell_type": "code",
     "collapsed": false,
     "input": [
      "cd ~/T\u00e9l\u00e9chargements/WILLOW-ObjectClass/Face/"
     ],
     "language": "python",
     "metadata": {},
     "outputs": [
      {
       "output_type": "stream",
       "stream": "stdout",
       "text": [
        "/home/matthieu/T\u00e9l\u00e9chargements/WILLOW-ObjectClass/Face\n"
       ]
      }
     ],
     "prompt_number": 117
    },
    {
     "cell_type": "code",
     "collapsed": false,
     "input": [
      "distances = np.zeros((len(glob.glob('*.mat')), len(x['pts_coord'][0] - 1)), dtype= np.float64)\n",
      "angles = np.zeros((len(glob.glob('*.mat')), len(x['pts_coord'][0] - 1)), dtype= np.float64)\n",
      "j = 0\n",
      "for filename in glob.glob('*.mat'):\n",
      "    x = mio.loadmat(filename)\n",
      "    for i in range(1,len(x['pts_coord'][0])):\n",
      "        distances[j,i-1] = 0.5 * m.log((x['pts_coord'][0][0] - x['pts_coord'][0][i])*(x['pts_coord'][0][0] - x['pts_coord'][0][i]) + (x['pts_coord'][1][0] - x['pts_coord'][1][i])*(x['pts_coord'][1][0] - x['pts_coord'][1][i]))\n",
      "        angles[j,i-1] = m.atan((x['pts_coord'][1][0] - x['pts_coord'][1][i])/(x['pts_coord'][0][0] - x['pts_coord'][0][i]))\n",
      "    j = j + 1\n",
      "\n",
      "individ = np.concatenate((individ, np.concatenate((distances, angles), axis=1)), axis = 0)"
     ],
     "language": "python",
     "metadata": {},
     "outputs": [],
     "prompt_number": 27
    },
    {
     "cell_type": "code",
     "collapsed": false,
     "input": [
      "print individ.shape"
     ],
     "language": "python",
     "metadata": {},
     "outputs": [
      {
       "output_type": "stream",
       "stream": "stdout",
       "text": [
        "(159, 20)\n"
       ]
      }
     ],
     "prompt_number": 28
    },
    {
     "cell_type": "code",
     "collapsed": false,
     "input": [
      "cd .."
     ],
     "language": "python",
     "metadata": {},
     "outputs": [
      {
       "output_type": "stream",
       "stream": "stdout",
       "text": [
        "/home/matthieu/T\u00e9l\u00e9chargements/WILLOW-ObjectClass\n"
       ]
      }
     ],
     "prompt_number": 37
    },
    {
     "cell_type": "code",
     "collapsed": false,
     "input": [
      "import os as os\n",
      "\n",
      "individ = np.zeros((1,20), dtype=np.float64)\n",
      "Y=[]\n",
      "for direct in os.listdir('./'):\n",
      "    \n",
      "    distances = np.zeros((len(glob.glob(direct+'/*.mat')), len(x['pts_coord'][0] - 1)), dtype= np.float64)\n",
      "    angles = np.zeros((len(glob.glob(direct+'/*.mat')), len(x['pts_coord'][0] - 1)), dtype= np.float64)\n",
      "    print len(glob.glob(direct+'/*.mat'))\n",
      "    j = 0\n",
      "    for filename in glob.glob(direct+'/*.mat'):\n",
      "        x = mio.loadmat(filename)\n",
      "        for i in range(1,len(x['pts_coord'][0])):\n",
      "            distances[j,i-1] = 0.5 * m.log((x['pts_coord'][0][0] - x['pts_coord'][0][i])*(x['pts_coord'][0][0] - x['pts_coord'][0][i]) + (x['pts_coord'][1][0] - x['pts_coord'][1][i])*(x['pts_coord'][1][0] - x['pts_coord'][1][i]))\n",
      "            angles[j,i-1] = m.atan((x['pts_coord'][1][0] - x['pts_coord'][1][i])/(x['pts_coord'][0][0] - x['pts_coord'][0][i]))\n",
      "        j = j + 1\n",
      "        Y = Y + [int(direct == filetoimport)]\n",
      "    \n",
      "    individ = np.concatenate((individ, np.concatenate((distances, angles), axis=1)), axis = 0)\n",
      "    \n",
      "    if direct == filetoimport: \n",
      "        Moyenne = [np.mean(distances[:,i]) for i in range(distances.shape[1])] + [np.mean(angles[:,i]) for i in range(angles.shape[1])]\n",
      "    \n",
      "\n",
      "    "
     ],
     "language": "python",
     "metadata": {},
     "outputs": [
      {
       "output_type": "stream",
       "stream": "stdout",
       "text": [
        "66\n",
        "40\n",
        "109"
       ]
      },
      {
       "output_type": "stream",
       "stream": "stdout",
       "text": [
        "\n",
        "50"
       ]
      },
      {
       "output_type": "stream",
       "stream": "stdout",
       "text": [
        "\n",
        "40\n"
       ]
      }
     ],
     "prompt_number": 62
    },
    {
     "cell_type": "code",
     "collapsed": false,
     "input": [
      "import scipy.stats as scp\n",
      "Scores = [[ scp.norm(Moyenne[j], 1).pdf(individ[i,j]) for j in range(individ.shape[1])] for i in range(individ.shape[0])]"
     ],
     "language": "python",
     "metadata": {},
     "outputs": [],
     "prompt_number": 63
    },
    {
     "cell_type": "code",
     "collapsed": false,
     "input": [
      "ArrayScores = np.array(Scores)"
     ],
     "language": "python",
     "metadata": {},
     "outputs": [],
     "prompt_number": 65
    },
    {
     "cell_type": "code",
     "collapsed": false,
     "input": [
      "Tot = np.concatenate((ArrayScores[1:,:], np.array(Y).reshape(np.array(Y).shape[0], 1)), axis = 1)\n"
     ],
     "language": "python",
     "metadata": {},
     "outputs": [],
     "prompt_number": 96
    },
    {
     "cell_type": "code",
     "collapsed": false,
     "input": [
      "np.random.shuffle(Tot)\n",
      "from sklearn import svm as svm\n",
      "\n",
      "clf = svm.SVC(kernel='linear')\n",
      "clf.fit(Tot[:250,:-1], Tot[:250, -1])"
     ],
     "language": "python",
     "metadata": {},
     "outputs": [
      {
       "output_type": "stream",
       "stream": "stderr",
       "text": [
        "/usr/lib/pymodules/python2.7/sklearn/svm/classes.py:184: FutureWarning: SVM: scale_C will be True by default in scikit-learn 0.11\n",
        "  cache_size, scale_C)\n"
       ]
      },
      {
       "metadata": {},
       "output_type": "pyout",
       "prompt_number": 100,
       "text": [
        "SVC(C=1.0, cache_size=200, coef0=0.0, degree=3, gamma=0.0, kernel='linear',\n",
        "  probability=False, scale_C=False, shrinking=True, tol=0.001)"
       ]
      }
     ],
     "prompt_number": 100
    },
    {
     "cell_type": "code",
     "collapsed": false,
     "input": [
      "print Tot.shape\n",
      "print clf.coef_"
     ],
     "language": "python",
     "metadata": {},
     "outputs": [
      {
       "output_type": "stream",
       "stream": "stdout",
       "text": [
        "(305, 21)\n",
        "[[ -2.27597839e+00   5.47647400e-01  -5.02638560e-01  -2.37524735e-01\n",
        "   -6.88810000e-01  -1.44156201e+00  -1.03695797e+00  -2.33134655e+00\n",
        "    1.45800632e-01  -1.11022302e-16  -5.04654671e-01  -4.62135436e-01\n",
        "   -2.63432452e+00  -2.84289002e-01  -1.23339616e+00  -1.48530459e+00\n",
        "   -1.97610937e+00  -9.26244576e-01  -6.43842707e-01  -1.11022302e-16]]\n"
       ]
      }
     ],
     "prompt_number": 101
    },
    {
     "cell_type": "code",
     "collapsed": false,
     "input": [
      "clf.predict(Tot[250:,:-1]) == Tot[250:, -1]\n"
     ],
     "language": "python",
     "metadata": {},
     "outputs": [
      {
       "metadata": {},
       "output_type": "pyout",
       "prompt_number": 105,
       "text": [
        "array([ True,  True,  True,  True,  True,  True,  True,  True,  True,\n",
        "        True, False,  True,  True,  True,  True,  True,  True,  True,\n",
        "        True,  True,  True,  True,  True,  True,  True,  True,  True,\n",
        "        True,  True,  True,  True,  True,  True,  True,  True,  True,\n",
        "        True,  True,  True,  True,  True,  True,  True,  True,  True,\n",
        "        True,  True,  True,  True,  True,  True,  True,  True, False,  True], dtype=bool)"
       ]
      }
     ],
     "prompt_number": 105
    },
    {
     "cell_type": "code",
     "collapsed": false,
     "input": [],
     "language": "python",
     "metadata": {},
     "outputs": [],
     "prompt_number": 6
    },
    {
     "cell_type": "code",
     "collapsed": false,
     "input": [],
     "language": "python",
     "metadata": {},
     "outputs": []
    }
   ],
   "metadata": {}
  }
 ]
}